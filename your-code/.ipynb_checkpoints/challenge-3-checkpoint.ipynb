{
 "cells": [
  {
   "cell_type": "code",
   "execution_count": 1,
   "metadata": {},
   "outputs": [],
   "source": [
    "import time\n",
    "from github import Github"
   ]
  },
  {
   "cell_type": "code",
   "execution_count": 2,
   "metadata": {},
   "outputs": [],
   "source": [
    "git = Github('***************************************')"
   ]
  },
  {
   "cell_type": "code",
   "execution_count": 3,
   "metadata": {},
   "outputs": [],
   "source": [
    "repo = git.get_repo('ironhack-datalabs/scavenger')"
   ]
  },
  {
   "cell_type": "code",
   "execution_count": 4,
   "metadata": {},
   "outputs": [],
   "source": [
    "files = repo.get_contents(\"\")"
   ]
  },
  {
   "cell_type": "code",
   "execution_count": 5,
   "metadata": {},
   "outputs": [
    {
     "name": "stdout",
     "output_type": "stream",
     "text": [
      "Tiempo de ejecucion:  22.231788396835327\n"
     ]
    }
   ],
   "source": [
    "start_time = time.time()\n",
    "joke = []\n",
    "for content in files:\n",
    "    if not content.path.endswith('.gitignore'):\n",
    "        subpath = repo.get_contents(content.path)  \n",
    "        \n",
    "        for p in subpath:\n",
    "            file = repo.get_contents(p.path)\n",
    "            if file.path.endswith('.scavengerhunt'):\n",
    "                key = int(file.name[1:5])\n",
    "                r = repo.get_contents(file.path).decoded_content\n",
    "                joke.append((key,r.decode('utf-8').strip()))                \n",
    "end_time = time.time()\n",
    "time_late = end_time - start_time\n",
    "print('Tiempo de ejecucion: ',time_late)"
   ]
  },
  {
   "cell_type": "code",
   "execution_count": 9,
   "metadata": {},
   "outputs": [
    {
     "data": {
      "text/plain": [
       "'In data science, 80 percent of time spent is preparing data, 20 percent of time is spent complaining about the need to prepare data.'"
      ]
     },
     "execution_count": 9,
     "metadata": {},
     "output_type": "execute_result"
    }
   ],
   "source": [
    "joke = dict(joke)\n",
    "sort_dict = lambda joke: sorted(joke.items())\n",
    "text_joke = dict(sort_dict(joke)).values()\n",
    "' '.join(text_joke)\n"
   ]
  },
  {
   "cell_type": "code",
   "execution_count": 13,
   "metadata": {},
   "outputs": [
    {
     "data": {
      "text/plain": [
       "'In data science, 80 percent of time spent is preparing data, 20 percent of time is spent complaining about the need to prepare data.'"
      ]
     },
     "execution_count": 13,
     "metadata": {},
     "output_type": "execute_result"
    }
   ],
   "source": [
    "# other solution to ordenate text\n",
    "import operator\n",
    "exampleDict= joke\n",
    "sortedDict = sorted(exampleDict.items(), key=operator.itemgetter(0))\n",
    "text_joke = dict(sortedDict).values()\n",
    "' '.join(text_joke)"
   ]
  },
  {
   "cell_type": "code",
   "execution_count": 16,
   "metadata": {},
   "outputs": [],
   "source": [
    "# volteando cambiando la posicion de la llave a valor"
   ]
  },
  {
   "cell_type": "code",
   "execution_count": 18,
   "metadata": {},
   "outputs": [
    {
     "name": "stdout",
     "output_type": "stream",
     "text": [
      "Tiempo de ejecucion:  21.775925159454346\n"
     ]
    }
   ],
   "source": [
    "start_time = time.time()\n",
    "joke = []\n",
    "for content in files:\n",
    "    if not content.path.endswith('.gitignore'):\n",
    "        subpath = repo.get_contents(content.path)  \n",
    "        \n",
    "        for p in subpath:\n",
    "            file = repo.get_contents(p.path)\n",
    "            if file.path.endswith('.scavengerhunt'):\n",
    "                value = int(file.name[1:5])\n",
    "                r = repo.get_contents(file.path).decoded_content\n",
    "                joke.append((r.decode('utf-8').strip(),value))                \n",
    "end_time = time.time()\n",
    "time_late = end_time - start_time\n",
    "print('Tiempo de ejecucion: ',time_late)"
   ]
  },
  {
   "cell_type": "code",
   "execution_count": 25,
   "metadata": {},
   "outputs": [
    {
     "data": {
      "text/plain": [
       "'In data science, 80 is preparing data, 20 percent of time spent complaining about the need to prepare data.'"
      ]
     },
     "execution_count": 25,
     "metadata": {},
     "output_type": "execute_result"
    }
   ],
   "source": [
    "joke_ = dict(joke)\n",
    "sortedDict = sorted(joke_.items(), key=lambda x: x[1])\n",
    "\n",
    "text_joke = dict(sortedDict).keys()\n",
    "' '.join(text_joke)"
   ]
  },
  {
   "cell_type": "code",
   "execution_count": 27,
   "metadata": {},
   "outputs": [
    {
     "data": {
      "text/plain": [
       "'In data science, 80 is preparing data, 20 percent of time spent complaining about the need to prepare data.'"
      ]
     },
     "execution_count": 27,
     "metadata": {},
     "output_type": "execute_result"
    }
   ],
   "source": [
    "from collections import OrderedDict\n",
    "sortedDict = OrderedDict(sorted(joke_.items(), key=lambda x: x[1]))\n",
    "text_joke = dict(sortedDict).keys()\n",
    "' '.join(text_joke)"
   ]
  },
  {
   "cell_type": "code",
   "execution_count": null,
   "metadata": {},
   "outputs": [],
   "source": []
  }
 ],
 "metadata": {
  "kernelspec": {
   "display_name": "Python 3",
   "language": "python",
   "name": "python3"
  },
  "language_info": {
   "codemirror_mode": {
    "name": "ipython",
    "version": 3
   },
   "file_extension": ".py",
   "mimetype": "text/x-python",
   "name": "python",
   "nbconvert_exporter": "python",
   "pygments_lexer": "ipython3",
   "version": "3.9.5"
  }
 },
 "nbformat": 4,
 "nbformat_minor": 4
}
