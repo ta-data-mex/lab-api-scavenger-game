{
 "cells": [
  {
   "cell_type": "code",
   "execution_count": 11,
   "metadata": {},
   "outputs": [],
   "source": [
    "import time\n",
    "from datetime import datetime\n",
    "from github import Github"
   ]
  },
  {
   "cell_type": "code",
   "execution_count": 12,
   "metadata": {},
   "outputs": [],
   "source": [
    "git = Github('*************************************')"
   ]
  },
  {
   "cell_type": "code",
   "execution_count": 13,
   "metadata": {},
   "outputs": [],
   "source": [
    "user = git.get_user(\"ta-data-mex\")"
   ]
  },
  {
   "cell_type": "code",
   "execution_count": 14,
   "metadata": {},
   "outputs": [],
   "source": [
    "repos = user.get_repos()"
   ]
  },
  {
   "cell_type": "code",
   "execution_count": 16,
   "metadata": {},
   "outputs": [
    {
     "name": "stdout",
     "output_type": "stream",
     "text": [
      "Commits totales en el intervalo de fecha dado:  179\n",
      "Tiempo de ejecucion:  41.46943807601929\n"
     ]
    }
   ],
   "source": [
    "time_start = time.time()\n",
    "c=0\n",
    "for repo in repos:\n",
    "    commits_sha = repo.get_commits()\n",
    "    \n",
    "    \n",
    "    for sha in commits_sha:\n",
    "        sha = str(sha)[12:-2]\n",
    "        commit_date = repo.get_commit(sha=sha).commit.author.date\n",
    "        if commit_date >= datetime(2019,1,1) and commit_date <= datetime(2021,7,4):\n",
    "            c+=1\n",
    "\n",
    "print('Commits totales en el intervalo de fecha dado: ',c)\n",
    "end_time = time.time()\n",
    "time_late = end_time - time_start\n",
    "\n",
    "print('Tiempo de ejecucion: ',time_late)"
   ]
  },
  {
   "cell_type": "code",
   "execution_count": null,
   "metadata": {},
   "outputs": [],
   "source": []
  }
 ],
 "metadata": {
  "kernelspec": {
   "display_name": "Python 3",
   "language": "python",
   "name": "python3"
  },
  "language_info": {
   "codemirror_mode": {
    "name": "ipython",
    "version": 3
   },
   "file_extension": ".py",
   "mimetype": "text/x-python",
   "name": "python",
   "nbconvert_exporter": "python",
   "pygments_lexer": "ipython3",
   "version": "3.9.5"
  }
 },
 "nbformat": 4,
 "nbformat_minor": 4
}
