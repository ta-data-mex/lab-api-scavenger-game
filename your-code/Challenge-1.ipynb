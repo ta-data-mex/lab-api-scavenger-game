{
 "cells": [
  {
   "cell_type": "code",
   "execution_count": 15,
   "metadata": {},
   "outputs": [],
   "source": [
    "import time\n",
    "from github import Github"
   ]
  },
  {
   "cell_type": "code",
   "execution_count": 2,
   "metadata": {},
   "outputs": [],
   "source": [
    "git = Github('***************************************')"
   ]
  },
  {
   "cell_type": "code",
   "execution_count": 16,
   "metadata": {},
   "outputs": [
    {
     "name": "stdout",
     "output_type": "stream",
     "text": [
      "Tiempo de ejecucion:  1.4783787727355957\n"
     ]
    }
   ],
   "source": [
    "start_time = time.time()\n",
    "git_user = git.get_user('ta-data-mex')\n",
    "repos = git_user.get_repos()\n",
    "\n",
    "repo_langage = list(set([repo.language for repo in repos]))\n",
    "repo_langage\n",
    "end_time = time.time()\n",
    "\n",
    "time_late = end_time-start_time\n",
    "\n",
    "print('Tiempo de ejecucion: ',time_late)"
   ]
  },
  {
   "cell_type": "code",
   "execution_count": 17,
   "metadata": {},
   "outputs": [
    {
     "name": "stdout",
     "output_type": "stream",
     "text": [
      "['Jupyter Notebook', None, 'Rich Text Format', 'HTML', 'Python']\n",
      "Tiempo de ejecucion:  1.4783787727355957\n"
     ]
    }
   ],
   "source": [
    "# other solution\n",
    "start_time = time.time()\n",
    "github_user = git.get_user(\"ta-data-mex\") \n",
    "repos = github_user.get_repos()\n",
    "list(repos)\n",
    "repo_languages = []\n",
    "\n",
    "for repo in repos:\n",
    "    repo_languages.append(repo.language)\n",
    "\n",
    "unique_repo_languages = list(set(repo_languages))\n",
    "print(unique_repo_languages) \n",
    "end_time = time.time()\n",
    "print('Tiempo de ejecucion: ',time_late)"
   ]
  }
 ],
 "metadata": {
  "kernelspec": {
   "display_name": "Python 3",
   "language": "python",
   "name": "python3"
  },
  "language_info": {
   "codemirror_mode": {
    "name": "ipython",
    "version": 3
   },
   "file_extension": ".py",
   "mimetype": "text/x-python",
   "name": "python",
   "nbconvert_exporter": "python",
   "pygments_lexer": "ipython3",
   "version": "3.9.5"
  }
 },
 "nbformat": 4,
 "nbformat_minor": 4
}
