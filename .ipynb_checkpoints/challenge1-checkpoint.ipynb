{
 "cells": [
  {
   "cell_type": "code",
   "execution_count": 2,
   "id": "ac4f5ca7",
   "metadata": {},
   "outputs": [],
   "source": [
    "from github import Github\n",
    "import requests"
   ]
  },
  {
   "cell_type": "code",
   "execution_count": 12,
   "id": "640bb43d",
   "metadata": {},
   "outputs": [],
   "source": [
    "url = 'https://api.github.com/repos/ta-data-mex/lab-api-scavenger-game'\n",
    "response = requests.get(url).json()\n",
    "f = requests.get(response['forks_url']).json()\n"
   ]
  },
  {
   "cell_type": "code",
   "execution_count": 13,
   "id": "d6cd46cb",
   "metadata": {},
   "outputs": [
    {
     "data": {
      "text/plain": [
       "['https://api.github.com/repos/diegoperezo97/lab-api-scavenger-game',\n",
       " 'https://api.github.com/repos/edwardsanchez001/lab-api-scavenger-game',\n",
       " 'https://api.github.com/repos/JassielMG/lab-api-scavenger-game',\n",
       " 'https://api.github.com/repos/Alvarezog/lab-api-scavenger-game',\n",
       " 'https://api.github.com/repos/JesusE1509/lab-api-scavenger-game',\n",
       " 'https://api.github.com/repos/ferRm/lab-api-scavenger-game',\n",
       " 'https://api.github.com/repos/je-lv/lab-api-scavenger-game',\n",
       " 'https://api.github.com/repos/davidfv7/lab-api-scavenger-game',\n",
       " 'https://api.github.com/repos/talegaman/lab-api-scavenger-game',\n",
       " 'https://api.github.com/repos/diego03/lab-api-scavenger-game',\n",
       " 'https://api.github.com/repos/marianagh12/lab-api-scavenger-game',\n",
       " 'https://api.github.com/repos/KarenLizzette/lab-api-scavenger-game',\n",
       " 'https://api.github.com/repos/FernaA/lab-api-scavenger-game',\n",
       " 'https://api.github.com/repos/aeonryu/lab-api-scavenger-game',\n",
       " 'https://api.github.com/repos/Aquilescool/lab-api-scavenger-game',\n",
       " 'https://api.github.com/repos/ElsaRobles/lab-api-scavenger-game',\n",
       " 'https://api.github.com/repos/nanfabs/lab-api-scavenger-game',\n",
       " 'https://api.github.com/repos/Jorch39/lab-api-scavenger-game',\n",
       " 'https://api.github.com/repos/vannia/lab-api-scavenger-game',\n",
       " 'https://api.github.com/repos/ropalaciosv/lab-api-scavenger-game',\n",
       " 'https://api.github.com/repos/brisa-araujo/lab-api-scavenger-game',\n",
       " 'https://api.github.com/repos/lgallogomez/lab-api-scavenger-game',\n",
       " 'https://api.github.com/repos/alejandroarrya/lab-api-scavenger-game',\n",
       " 'https://api.github.com/repos/elgamerjugon/lab-api-scavenger-game',\n",
       " 'https://api.github.com/repos/magalvezc/lab-api-scavenger-game',\n",
       " 'https://api.github.com/repos/lponcec94/lab-api-scavenger-game',\n",
       " 'https://api.github.com/repos/rodolfopardo/lab-api-scavenger-game',\n",
       " 'https://api.github.com/repos/dhdzmota/lab-api-scavenger-game',\n",
       " 'https://api.github.com/repos/shiroiusagi4486/lab-api-scavenger-game',\n",
       " 'https://api.github.com/repos/diequicar/lab-api-scavenger-game']"
      ]
     },
     "execution_count": 13,
     "metadata": {},
     "output_type": "execute_result"
    }
   ],
   "source": [
    "list_urls = []\n",
    "for fork in f:\n",
    "    list_urls.append(fork['url'])\n",
    "list_urls"
   ]
  },
  {
   "cell_type": "code",
   "execution_count": 7,
   "id": "ff2bad30",
   "metadata": {},
   "outputs": [
    {
     "data": {
      "text/plain": [
       "{'Jupyter Notebook', None, 'Python'}"
      ]
     },
     "execution_count": 7,
     "metadata": {},
     "output_type": "execute_result"
    }
   ],
   "source": [
    "languages = []\n",
    "for fork in f:\n",
    "    languages.append(fork['language'])\n",
    "    \n",
    "set(languages)"
   ]
  },
  {
   "cell_type": "markdown",
   "id": "b38e57e5",
   "metadata": {},
   "source": [
    "### -----------------------------------------"
   ]
  },
  {
   "cell_type": "code",
   "execution_count": 9,
   "id": "037cf78f",
   "metadata": {},
   "outputs": [],
   "source": []
  },
  {
   "cell_type": "code",
   "execution_count": 14,
   "id": "10a5bc4e",
   "metadata": {},
   "outputs": [
    {
     "name": "stdout",
     "output_type": "stream",
     "text": [
      "[None, 'Rich Text Format', 'Jupyter Notebook', 'Python', 'HTML']\n"
     ]
    }
   ],
   "source": [
    "github_user = g.get_user(\"ta-data-mex\") \n",
    "repos = github_user.get_repos()\n",
    "list(repos)\n",
    "repo_languages = []\n",
    "\n",
    "for repo in repos:\n",
    "    repo_languages.append(repo.language)\n",
    "    \n",
    "unique_repo_languages = list(set(repo_languages))\n",
    "print(unique_repo_languages)\n"
   ]
  },
  {
   "cell_type": "markdown",
   "id": "8da61526",
   "metadata": {},
   "source": [
    "### Challenge 2"
   ]
  },
  {
   "cell_type": "code",
   "execution_count": 17,
   "id": "b5648777",
   "metadata": {},
   "outputs": [
    {
     "ename": "AttributeError",
     "evalue": "'NamedUser' object has no attribute 'get_commit'",
     "output_type": "error",
     "traceback": [
      "\u001b[1;31m---------------------------------------------------------------------------\u001b[0m",
      "\u001b[1;31mAttributeError\u001b[0m                            Traceback (most recent call last)",
      "\u001b[1;32m~\\AppData\\Local\\Temp/ipykernel_9732/2854620807.py\u001b[0m in \u001b[0;36m<module>\u001b[1;34m\u001b[0m\n\u001b[0;32m      1\u001b[0m \u001b[0mgithub_user\u001b[0m \u001b[1;33m=\u001b[0m \u001b[0mg\u001b[0m\u001b[1;33m.\u001b[0m\u001b[0mget_user\u001b[0m\u001b[1;33m(\u001b[0m\u001b[1;34m\"ta-data-mex/repos\"\u001b[0m\u001b[1;33m)\u001b[0m\u001b[1;33m\u001b[0m\u001b[1;33m\u001b[0m\u001b[0m\n\u001b[1;32m----> 2\u001b[1;33m \u001b[0mrepos\u001b[0m \u001b[1;33m=\u001b[0m \u001b[0mgithub_user\u001b[0m\u001b[1;33m.\u001b[0m\u001b[0mget_commit\u001b[0m\u001b[1;33m(\u001b[0m\u001b[1;33m)\u001b[0m\u001b[1;33m\u001b[0m\u001b[1;33m\u001b[0m\u001b[0m\n\u001b[0m\u001b[0;32m      3\u001b[0m \u001b[0mlist\u001b[0m\u001b[1;33m(\u001b[0m\u001b[0mrepos\u001b[0m\u001b[1;33m)\u001b[0m\u001b[1;33m\u001b[0m\u001b[1;33m\u001b[0m\u001b[0m\n",
      "\u001b[1;31mAttributeError\u001b[0m: 'NamedUser' object has no attribute 'get_commit'"
     ]
    }
   ],
   "source": [
    "github_user = g.get_user(\"ta-data-mex\") \n",
    "repos = github_user.get_repos()\n",
    "list(repos)"
   ]
  },
  {
   "cell_type": "code",
   "execution_count": null,
   "id": "13d1c45b",
   "metadata": {},
   "outputs": [],
   "source": []
  }
 ],
 "metadata": {
  "kernelspec": {
   "display_name": "venv-web-scrapping",
   "language": "python",
   "name": "venv-web-scrapping"
  },
  "language_info": {
   "codemirror_mode": {
    "name": "ipython",
    "version": 3
   },
   "file_extension": ".py",
   "mimetype": "text/x-python",
   "name": "python",
   "nbconvert_exporter": "python",
   "pygments_lexer": "ipython3",
   "version": "3.9.4"
  }
 },
 "nbformat": 4,
 "nbformat_minor": 5
}
