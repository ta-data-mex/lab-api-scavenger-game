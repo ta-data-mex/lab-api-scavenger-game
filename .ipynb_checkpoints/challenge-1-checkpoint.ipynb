{
 "cells": [
  {
   "cell_type": "code",
   "execution_count": 1,
   "metadata": {},
   "outputs": [],
   "source": [
    "import json\n",
    "import requests\n",
    "import pandas as pd\n",
    "from pandas.io.json import json_normalize"
   ]
  },
  {
   "cell_type": "code",
   "execution_count": 2,
   "metadata": {},
   "outputs": [],
   "source": [
    "url = 'https://api.github.com/repos/ironhack-datalabs/madrid-oct-2018'"
   ]
  },
  {
   "cell_type": "code",
   "execution_count": 3,
   "metadata": {},
   "outputs": [],
   "source": [
    "response = requests.get(url).json()"
   ]
  },
  {
   "cell_type": "code",
   "execution_count": 4,
   "metadata": {},
   "outputs": [],
   "source": [
    "#Obtain the full list of forks created from the main lab repo via Github API\n",
    "\n",
    "f = requests.get(response['forks_url']).json()"
   ]
  },
  {
   "cell_type": "code",
   "execution_count": 8,
   "metadata": {},
   "outputs": [
    {
     "data": {
      "text/plain": [
       "['https://api.github.com/repos/ToniPons97/mad-oct-2018',\n",
       " 'https://api.github.com/repos/rsennes/mad-oct-2018',\n",
       " 'https://api.github.com/repos/gggfaria/mad-oct-2018',\n",
       " 'https://api.github.com/repos/nancyulric/mad-oct-2018',\n",
       " 'https://api.github.com/repos/lmartinezruizit/datamad0119',\n",
       " 'https://api.github.com/repos/eye8/madrid-oct-2018',\n",
       " 'https://api.github.com/repos/ArieHassan/madrid-oct-2018',\n",
       " 'https://api.github.com/repos/cmvalma/madrid-oct-2018',\n",
       " 'https://api.github.com/repos/criraca/madrid-oct-2018',\n",
       " 'https://api.github.com/repos/boyander/madrid-oct-2018',\n",
       " 'https://api.github.com/repos/AlbertoCastellanos/madrid-oct-2018',\n",
       " 'https://api.github.com/repos/elenajpp/madrid-oct-2018',\n",
       " 'https://api.github.com/repos/pablobarrio/madrid-oct-2018',\n",
       " 'https://api.github.com/repos/miriammg/madrid-oct-2018',\n",
       " 'https://api.github.com/repos/albertogcmr/madrid-oct-2018',\n",
       " 'https://api.github.com/repos/marisfont/madrid-oct-2018']"
      ]
     },
     "execution_count": 8,
     "metadata": {},
     "output_type": "execute_result"
    }
   ],
   "source": [
    "list_urls = []\n",
    "for fork in f:\n",
    "    list_urls.append(fork['url'])\n",
    "list_urls"
   ]
  },
  {
   "cell_type": "code",
   "execution_count": 9,
   "metadata": {},
   "outputs": [
    {
     "data": {
      "text/plain": [
       "{'HTML', 'Jupyter Notebook', None, 'Python'}"
      ]
     },
     "execution_count": 9,
     "metadata": {},
     "output_type": "execute_result"
    }
   ],
   "source": [
    "#Loop the JSON response to find out the `language` attribute of each fork. Use an array to store the `language` attributes\n",
    "#of each fork\n",
    "\n",
    "languages = []\n",
    "for fork in f:\n",
    "    languages.append(fork['language'])\n",
    "    \n",
    "set(languages)"
   ]
  }
 ],
 "metadata": {
  "kernelspec": {
   "display_name": "Python 3",
   "language": "python",
   "name": "python3"
  },
  "language_info": {
   "codemirror_mode": {
    "name": "ipython",
    "version": 3
   },
   "file_extension": ".py",
   "mimetype": "text/x-python",
   "name": "python",
   "nbconvert_exporter": "python",
   "pygments_lexer": "ipython3",
   "version": "3.7.3"
  }
 },
 "nbformat": 4,
 "nbformat_minor": 2
}
